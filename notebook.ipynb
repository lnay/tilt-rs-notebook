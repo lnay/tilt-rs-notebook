{
 "cells": [
  {
   "cell_type": "code",
   "execution_count": 2,
   "id": "96a2f6e0",
   "metadata": {
    "vscode": {
     "languageId": "rust"
    }
   },
   "outputs": [],
   "source": [
    ":dep pseudo_tilt = { git = \"https://gitlab.com/pseudowalls/tilt.rs.git\" }\n",
    "use pseudo_tilt::*;"
   ]
  },
  {
   "cell_type": "code",
   "execution_count": 3,
   "id": "7345283c",
   "metadata": {
    "vscode": {
     "languageId": "rust"
    }
   },
   "outputs": [
    {
     "name": "stdout",
     "output_type": "stream",
     "text": [
      "(2, 1ℓ, -1ℓ²)\n"
     ]
    }
   ],
   "source": [
    "let v: chern_character::ChernChar::<2> = (2, 1, -2).into();\n",
    "println!(\"{v}\");"
   ]
  },
  {
   "cell_type": "code",
   "execution_count": 4,
   "id": "1b36613d",
   "metadata": {
    "vscode": {
     "languageId": "rust"
    }
   },
   "outputs": [
    {
     "data": {
      "text/plain": [
       "Err(\"β_ is not rational: ∞ walls\")"
      ]
     },
     "execution_count": 4,
     "metadata": {},
     "output_type": "execute_result"
    }
   ],
   "source": [
    "tilt_stability::left_pseudo_semistabilizers::find_all(&v)"
   ]
  },
  {
   "cell_type": "code",
   "execution_count": 5,
   "id": "726d461f",
   "metadata": {
    "vscode": {
     "languageId": "rust"
    }
   },
   "outputs": [
    {
     "name": "stdout",
     "output_type": "stream",
     "text": [
      "(3, 2ℓ, -2ℓ²)\n"
     ]
    }
   ],
   "source": [
    "let v: chern_character::ChernChar::<2> = (3, 2, -4).into();\n",
    "println!(\"{v}\");"
   ]
  },
  {
   "cell_type": "code",
   "execution_count": 6,
   "id": "1dca55d0",
   "metadata": {
    "vscode": {
     "languageId": "rust"
    }
   },
   "outputs": [
    {
     "name": "stdout",
     "output_type": "stream",
     "text": [
      "(1, 0ℓ, 0ℓ²)\n",
      "(4, -2ℓ, 1/2ℓ²)\n",
      "(2, 0ℓ, 0ℓ²)\n",
      "(8, -4ℓ, 1ℓ²)\n",
      "(4, -1ℓ, 0ℓ²)\n",
      "(7, -3ℓ, 1/2ℓ²)\n",
      "(16, -9ℓ, 5/2ℓ²)\n",
      "(25, -15ℓ, 9/2ℓ²)\n",
      "(3, 0ℓ, -1/2ℓ²)\n",
      "(3, 0ℓ, 0ℓ²)\n",
      "(12, -6ℓ, 3/2ℓ²)\n",
      "(2, 1ℓ, -1ℓ²)\n",
      "(2, 1ℓ, -1/2ℓ²)\n",
      "(2, 1ℓ, 0ℓ²)\n",
      "(5, -1ℓ, 0ℓ²)\n",
      "(8, -3ℓ, 1/2ℓ²)\n",
      "(11, -5ℓ, 1ℓ²)\n",
      "(4, 0ℓ, -1/2ℓ²)\n",
      "(4, 0ℓ, 0ℓ²)\n",
      "(7, -2ℓ, 0ℓ²)\n",
      "(10, -4ℓ, 1/2ℓ²)\n",
      "(19, -10ℓ, 5/2ℓ²)\n",
      "(3, 1ℓ, -1ℓ²)\n",
      "(3, 1ℓ, -1/2ℓ²)\n",
      "(3, 1ℓ, 0ℓ²)\n",
      "(6, -1ℓ, -1/2ℓ²)\n",
      "(5, 0ℓ, -1ℓ²)\n",
      "(4, 1ℓ, -3/2ℓ²)\n"
     ]
    },
    {
     "data": {
      "text/plain": [
       "()"
      ]
     },
     "execution_count": 6,
     "metadata": {},
     "output_type": "execute_result"
    }
   ],
   "source": [
    "tilt_stability::left_pseudo_semistabilizers::find_all(&v)\n",
    "    .unwrap()\n",
    "    .into_iter()\n",
    "    .for_each(|destab| println!(\"{destab}\"))"
   ]
  },
  {
   "cell_type": "code",
   "execution_count": 7,
   "id": "3d74a573",
   "metadata": {
    "vscode": {
     "languageId": "rust"
    }
   },
   "outputs": [],
   "source": [
    "// Enter code here\n"
   ]
  }
 ],
 "metadata": {
  "kernelspec": {
   "display_name": "Rust",
   "language": "rust",
   "name": "rust"
  },
  "language_info": {
   "codemirror_mode": "rust",
   "file_extension": ".rs",
   "mimetype": "text/rust",
   "name": "Rust",
   "pygment_lexer": "rust",
   "version": ""
  }
 },
 "nbformat": 4,
 "nbformat_minor": 5
}
